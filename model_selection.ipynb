{
 "cells": [
  {
   "cell_type": "markdown",
   "id": "1f66b202-fd96-4d3e-a997-33d6abd62c8d",
   "metadata": {},
   "source": [
    "# Подготовка данных"
   ]
  },
  {
   "cell_type": "code",
   "execution_count": 1,
   "id": "cf4c3e5a-1da3-4ef4-bbd6-6f064169ad02",
   "metadata": {},
   "outputs": [],
   "source": [
    "import pandas as pd\n",
    "import numpy as np"
   ]
  },
  {
   "cell_type": "code",
   "execution_count": 3,
   "id": "29b46cec-62f2-4823-993d-25b30afe4e5a",
   "metadata": {},
   "outputs": [
    {
     "data": {
      "text/html": [
       "<div>\n",
       "<style scoped>\n",
       "    .dataframe tbody tr th:only-of-type {\n",
       "        vertical-align: middle;\n",
       "    }\n",
       "\n",
       "    .dataframe tbody tr th {\n",
       "        vertical-align: top;\n",
       "    }\n",
       "\n",
       "    .dataframe thead th {\n",
       "        text-align: right;\n",
       "    }\n",
       "</style>\n",
       "<table border=\"1\" class=\"dataframe\">\n",
       "  <thead>\n",
       "    <tr style=\"text-align: right;\">\n",
       "      <th></th>\n",
       "      <th>CatalogStId</th>\n",
       "      <th>SidStarID</th>\n",
       "      <th>Number</th>\n",
       "      <th>RouteL</th>\n",
       "      <th>ProcedureType</th>\n",
       "      <th>StdDevDist</th>\n",
       "      <th>MeanDist</th>\n",
       "      <th>StdDevDistm1</th>\n",
       "      <th>MeanDistm1</th>\n",
       "      <th>MeanAzChangem1</th>\n",
       "      <th>StdAzChangem1</th>\n",
       "      <th>StdDevDistToLast</th>\n",
       "      <th>MeanDistToLast</th>\n",
       "      <th>LastAnglChange</th>\n",
       "    </tr>\n",
       "  </thead>\n",
       "  <tbody>\n",
       "    <tr>\n",
       "      <th>0</th>\n",
       "      <td>1162</td>\n",
       "      <td>145</td>\n",
       "      <td>9</td>\n",
       "      <td>4</td>\n",
       "      <td>veer</td>\n",
       "      <td>3.191862</td>\n",
       "      <td>19.222117</td>\n",
       "      <td>1.73035</td>\n",
       "      <td>17.520067</td>\n",
       "      <td>41.005884</td>\n",
       "      <td>0.0</td>\n",
       "      <td>1.593168</td>\n",
       "      <td>24.06125</td>\n",
       "      <td>106.911539</td>\n",
       "    </tr>\n",
       "    <tr>\n",
       "      <th>1</th>\n",
       "      <td>1162</td>\n",
       "      <td>146</td>\n",
       "      <td>9</td>\n",
       "      <td>4</td>\n",
       "      <td>veer</td>\n",
       "      <td>3.191862</td>\n",
       "      <td>19.222117</td>\n",
       "      <td>1.73035</td>\n",
       "      <td>17.520067</td>\n",
       "      <td>41.005884</td>\n",
       "      <td>0.0</td>\n",
       "      <td>1.593168</td>\n",
       "      <td>24.06125</td>\n",
       "      <td>106.911539</td>\n",
       "    </tr>\n",
       "    <tr>\n",
       "      <th>2</th>\n",
       "      <td>1162</td>\n",
       "      <td>191</td>\n",
       "      <td>7</td>\n",
       "      <td>4</td>\n",
       "      <td>veer</td>\n",
       "      <td>3.191862</td>\n",
       "      <td>19.222117</td>\n",
       "      <td>1.73035</td>\n",
       "      <td>17.520067</td>\n",
       "      <td>41.005884</td>\n",
       "      <td>0.0</td>\n",
       "      <td>1.593168</td>\n",
       "      <td>24.06125</td>\n",
       "      <td>106.911539</td>\n",
       "    </tr>\n",
       "    <tr>\n",
       "      <th>3</th>\n",
       "      <td>1162</td>\n",
       "      <td>193</td>\n",
       "      <td>7</td>\n",
       "      <td>4</td>\n",
       "      <td>veer</td>\n",
       "      <td>3.191862</td>\n",
       "      <td>19.222117</td>\n",
       "      <td>1.73035</td>\n",
       "      <td>17.520067</td>\n",
       "      <td>41.005884</td>\n",
       "      <td>0.0</td>\n",
       "      <td>1.593168</td>\n",
       "      <td>24.06125</td>\n",
       "      <td>106.911539</td>\n",
       "    </tr>\n",
       "    <tr>\n",
       "      <th>4</th>\n",
       "      <td>1162</td>\n",
       "      <td>194</td>\n",
       "      <td>7</td>\n",
       "      <td>4</td>\n",
       "      <td>veer</td>\n",
       "      <td>3.191862</td>\n",
       "      <td>19.222117</td>\n",
       "      <td>1.73035</td>\n",
       "      <td>17.520067</td>\n",
       "      <td>41.005884</td>\n",
       "      <td>0.0</td>\n",
       "      <td>1.593168</td>\n",
       "      <td>24.06125</td>\n",
       "      <td>106.911539</td>\n",
       "    </tr>\n",
       "  </tbody>\n",
       "</table>\n",
       "</div>"
      ],
      "text/plain": [
       "   CatalogStId  SidStarID  Number  RouteL ProcedureType  StdDevDist  \\\n",
       "0         1162        145       9       4          veer    3.191862   \n",
       "1         1162        146       9       4          veer    3.191862   \n",
       "2         1162        191       7       4          veer    3.191862   \n",
       "3         1162        193       7       4          veer    3.191862   \n",
       "4         1162        194       7       4          veer    3.191862   \n",
       "\n",
       "    MeanDist  StdDevDistm1  MeanDistm1  MeanAzChangem1  StdAzChangem1  \\\n",
       "0  19.222117       1.73035   17.520067       41.005884            0.0   \n",
       "1  19.222117       1.73035   17.520067       41.005884            0.0   \n",
       "2  19.222117       1.73035   17.520067       41.005884            0.0   \n",
       "3  19.222117       1.73035   17.520067       41.005884            0.0   \n",
       "4  19.222117       1.73035   17.520067       41.005884            0.0   \n",
       "\n",
       "   StdDevDistToLast  MeanDistToLast  LastAnglChange  \n",
       "0          1.593168        24.06125      106.911539  \n",
       "1          1.593168        24.06125      106.911539  \n",
       "2          1.593168        24.06125      106.911539  \n",
       "3          1.593168        24.06125      106.911539  \n",
       "4          1.593168        24.06125      106.911539  "
      ]
     },
     "execution_count": 3,
     "metadata": {},
     "output_type": "execute_result"
    }
   ],
   "source": [
    "train = pd.read_csv('TrainPatterns.csv')\n",
    "train.head()"
   ]
  },
  {
   "cell_type": "code",
   "execution_count": 7,
   "id": "160297ae-bf4f-452b-a4d1-958122c3d96c",
   "metadata": {},
   "outputs": [
    {
     "data": {
      "text/plain": [
       "(2100, 14)"
      ]
     },
     "execution_count": 7,
     "metadata": {},
     "output_type": "execute_result"
    }
   ],
   "source": [
    "train.shape"
   ]
  },
  {
   "cell_type": "code",
   "execution_count": 12,
   "id": "eb26a553-ba99-4aa9-9b02-453605f657e7",
   "metadata": {},
   "outputs": [
    {
     "data": {
      "text/plain": [
       "0"
      ]
     },
     "execution_count": 12,
     "metadata": {},
     "output_type": "execute_result"
    }
   ],
   "source": [
    "train.isna().any().sum()"
   ]
  },
  {
   "cell_type": "code",
   "execution_count": 18,
   "id": "91699bba-a6bc-4c33-9fc1-81e259efc18a",
   "metadata": {},
   "outputs": [
    {
     "name": "stdout",
     "output_type": "stream",
     "text": [
      "<class 'pandas.core.frame.DataFrame'>\n",
      "RangeIndex: 2100 entries, 0 to 2099\n",
      "Data columns (total 14 columns):\n",
      " #   Column            Non-Null Count  Dtype  \n",
      "---  ------            --------------  -----  \n",
      " 0   CatalogStId       2100 non-null   int64  \n",
      " 1   SidStarID         2100 non-null   int64  \n",
      " 2   Number            2100 non-null   int64  \n",
      " 3   RouteL            2100 non-null   int64  \n",
      " 4   ProcedureType     2100 non-null   object \n",
      " 5   StdDevDist        2100 non-null   float64\n",
      " 6   MeanDist          2100 non-null   float64\n",
      " 7   StdDevDistm1      2100 non-null   float64\n",
      " 8   MeanDistm1        2100 non-null   float64\n",
      " 9   MeanAzChangem1    2100 non-null   float64\n",
      " 10  StdAzChangem1     2100 non-null   float64\n",
      " 11  StdDevDistToLast  2100 non-null   float64\n",
      " 12  MeanDistToLast    2100 non-null   float64\n",
      " 13  LastAnglChange    2100 non-null   float64\n",
      "dtypes: float64(9), int64(4), object(1)\n",
      "memory usage: 229.8+ KB\n"
     ]
    }
   ],
   "source": [
    "train.info()"
   ]
  },
  {
   "cell_type": "code",
   "execution_count": 68,
   "id": "631bee1c-718e-4973-90bc-2019d446af1d",
   "metadata": {},
   "outputs": [],
   "source": [
    "X = train.drop(columns=['ProcedureType'])\n",
    "y = train['ProcedureType']"
   ]
  },
  {
   "cell_type": "markdown",
   "id": "ee5739db-27f1-4f2a-b1f5-5d245bd3be9e",
   "metadata": {},
   "source": [
    "## Кодировка целевой переменной"
   ]
  },
  {
   "cell_type": "code",
   "execution_count": 69,
   "id": "c09f483b-c254-4a2c-9f97-9b2fa077f9e4",
   "metadata": {},
   "outputs": [
    {
     "data": {
      "text/plain": [
       "array(['veer', 'trombone', 'ordinary'], dtype=object)"
      ]
     },
     "execution_count": 69,
     "metadata": {},
     "output_type": "execute_result"
    }
   ],
   "source": [
    "y.unique()"
   ]
  },
  {
   "cell_type": "code",
   "execution_count": 70,
   "id": "6a475765-94a8-47d1-8f32-46ce96a7a3fe",
   "metadata": {},
   "outputs": [],
   "source": [
    "from sklearn.preprocessing import LabelEncoder\n",
    "\n",
    "target_le = LabelEncoder().fit(y)"
   ]
  },
  {
   "cell_type": "code",
   "execution_count": 71,
   "id": "a3634f74-932c-40d2-a84a-0b06d775525d",
   "metadata": {},
   "outputs": [
    {
     "data": {
      "text/plain": [
       "array(['ordinary', 'trombone', 'veer'], dtype=object)"
      ]
     },
     "execution_count": 71,
     "metadata": {},
     "output_type": "execute_result"
    }
   ],
   "source": [
    "target_le.classes_"
   ]
  },
  {
   "cell_type": "code",
   "execution_count": 72,
   "id": "9c995637-77c2-4fb0-9f67-7a8c5163e20d",
   "metadata": {},
   "outputs": [],
   "source": [
    "y = target_le.transform(y)"
   ]
  },
  {
   "cell_type": "code",
   "execution_count": 73,
   "id": "4e915f98-df8f-4461-ae8f-b1b925d43a3a",
   "metadata": {},
   "outputs": [
    {
     "data": {
      "text/plain": [
       "array(['ordinary', 'trombone', 'veer'], dtype=object)"
      ]
     },
     "execution_count": 73,
     "metadata": {},
     "output_type": "execute_result"
    }
   ],
   "source": [
    "target_le.inverse_transform([0, 1, 2])"
   ]
  },
  {
   "cell_type": "code",
   "execution_count": 74,
   "id": "201cb396-62fe-4ab8-a507-9fc2f781b8a3",
   "metadata": {},
   "outputs": [
    {
     "data": {
      "text/html": [
       "<div>\n",
       "<style scoped>\n",
       "    .dataframe tbody tr th:only-of-type {\n",
       "        vertical-align: middle;\n",
       "    }\n",
       "\n",
       "    .dataframe tbody tr th {\n",
       "        vertical-align: top;\n",
       "    }\n",
       "\n",
       "    .dataframe thead th {\n",
       "        text-align: right;\n",
       "    }\n",
       "</style>\n",
       "<table border=\"1\" class=\"dataframe\">\n",
       "  <thead>\n",
       "    <tr style=\"text-align: right;\">\n",
       "      <th></th>\n",
       "      <th>CatalogStId</th>\n",
       "      <th>SidStarID</th>\n",
       "      <th>Number</th>\n",
       "      <th>RouteL</th>\n",
       "      <th>StdDevDist</th>\n",
       "      <th>MeanDist</th>\n",
       "      <th>StdDevDistm1</th>\n",
       "      <th>MeanDistm1</th>\n",
       "      <th>MeanAzChangem1</th>\n",
       "      <th>StdAzChangem1</th>\n",
       "      <th>StdDevDistToLast</th>\n",
       "      <th>MeanDistToLast</th>\n",
       "      <th>LastAnglChange</th>\n",
       "    </tr>\n",
       "  </thead>\n",
       "  <tbody>\n",
       "    <tr>\n",
       "      <th>0</th>\n",
       "      <td>1162</td>\n",
       "      <td>145</td>\n",
       "      <td>9</td>\n",
       "      <td>4</td>\n",
       "      <td>3.191862</td>\n",
       "      <td>19.222117</td>\n",
       "      <td>1.73035</td>\n",
       "      <td>17.520067</td>\n",
       "      <td>41.005884</td>\n",
       "      <td>0.0</td>\n",
       "      <td>1.593168</td>\n",
       "      <td>24.06125</td>\n",
       "      <td>106.911539</td>\n",
       "    </tr>\n",
       "    <tr>\n",
       "      <th>1</th>\n",
       "      <td>1162</td>\n",
       "      <td>146</td>\n",
       "      <td>9</td>\n",
       "      <td>4</td>\n",
       "      <td>3.191862</td>\n",
       "      <td>19.222117</td>\n",
       "      <td>1.73035</td>\n",
       "      <td>17.520067</td>\n",
       "      <td>41.005884</td>\n",
       "      <td>0.0</td>\n",
       "      <td>1.593168</td>\n",
       "      <td>24.06125</td>\n",
       "      <td>106.911539</td>\n",
       "    </tr>\n",
       "    <tr>\n",
       "      <th>2</th>\n",
       "      <td>1162</td>\n",
       "      <td>191</td>\n",
       "      <td>7</td>\n",
       "      <td>4</td>\n",
       "      <td>3.191862</td>\n",
       "      <td>19.222117</td>\n",
       "      <td>1.73035</td>\n",
       "      <td>17.520067</td>\n",
       "      <td>41.005884</td>\n",
       "      <td>0.0</td>\n",
       "      <td>1.593168</td>\n",
       "      <td>24.06125</td>\n",
       "      <td>106.911539</td>\n",
       "    </tr>\n",
       "    <tr>\n",
       "      <th>3</th>\n",
       "      <td>1162</td>\n",
       "      <td>193</td>\n",
       "      <td>7</td>\n",
       "      <td>4</td>\n",
       "      <td>3.191862</td>\n",
       "      <td>19.222117</td>\n",
       "      <td>1.73035</td>\n",
       "      <td>17.520067</td>\n",
       "      <td>41.005884</td>\n",
       "      <td>0.0</td>\n",
       "      <td>1.593168</td>\n",
       "      <td>24.06125</td>\n",
       "      <td>106.911539</td>\n",
       "    </tr>\n",
       "    <tr>\n",
       "      <th>4</th>\n",
       "      <td>1162</td>\n",
       "      <td>194</td>\n",
       "      <td>7</td>\n",
       "      <td>4</td>\n",
       "      <td>3.191862</td>\n",
       "      <td>19.222117</td>\n",
       "      <td>1.73035</td>\n",
       "      <td>17.520067</td>\n",
       "      <td>41.005884</td>\n",
       "      <td>0.0</td>\n",
       "      <td>1.593168</td>\n",
       "      <td>24.06125</td>\n",
       "      <td>106.911539</td>\n",
       "    </tr>\n",
       "  </tbody>\n",
       "</table>\n",
       "</div>"
      ],
      "text/plain": [
       "   CatalogStId  SidStarID  Number  RouteL  StdDevDist   MeanDist  \\\n",
       "0         1162        145       9       4    3.191862  19.222117   \n",
       "1         1162        146       9       4    3.191862  19.222117   \n",
       "2         1162        191       7       4    3.191862  19.222117   \n",
       "3         1162        193       7       4    3.191862  19.222117   \n",
       "4         1162        194       7       4    3.191862  19.222117   \n",
       "\n",
       "   StdDevDistm1  MeanDistm1  MeanAzChangem1  StdAzChangem1  StdDevDistToLast  \\\n",
       "0       1.73035   17.520067       41.005884            0.0          1.593168   \n",
       "1       1.73035   17.520067       41.005884            0.0          1.593168   \n",
       "2       1.73035   17.520067       41.005884            0.0          1.593168   \n",
       "3       1.73035   17.520067       41.005884            0.0          1.593168   \n",
       "4       1.73035   17.520067       41.005884            0.0          1.593168   \n",
       "\n",
       "   MeanDistToLast  LastAnglChange  \n",
       "0        24.06125      106.911539  \n",
       "1        24.06125      106.911539  \n",
       "2        24.06125      106.911539  \n",
       "3        24.06125      106.911539  \n",
       "4        24.06125      106.911539  "
      ]
     },
     "execution_count": 74,
     "metadata": {},
     "output_type": "execute_result"
    }
   ],
   "source": [
    "X.head()"
   ]
  },
  {
   "cell_type": "markdown",
   "id": "ff45b841-80fd-45e3-83f1-806a72987bfb",
   "metadata": {},
   "source": [
    "# Моделирование"
   ]
  },
  {
   "cell_type": "markdown",
   "id": "0dfccbd0-a871-4ced-b39b-f5ca7bf76c5e",
   "metadata": {},
   "source": [
    "## Логистическая регрессия"
   ]
  },
  {
   "cell_type": "code",
   "execution_count": 169,
   "id": "463918c9-6c7f-402e-a9ac-bc1be2af4c3d",
   "metadata": {},
   "outputs": [],
   "source": [
    "from sklearn.compose import ColumnTransformer, make_column_selector\n",
    "from sklearn.pipeline import Pipeline\n",
    "\n",
    "from sklearn.feature_selection import SelectKBest\n",
    "\n",
    "from sklearn.preprocessing import MinMaxScaler, StandardScaler\n",
    "\n",
    "col_dropper = ColumnTransformer([\n",
    "    ('drop_ids', 'drop', ['CatalogStId', 'SidStarID']),\n",
    "], remainder='passthrough')\n",
    "\n",
    "prep_pipe = Pipeline([\n",
    "    ('dropper', col_dropper),\n",
    "    ('selector', SelectKBest()),\n",
    "    ('scaler', StandardScaler())\n",
    "])"
   ]
  },
  {
   "cell_type": "code",
   "execution_count": 137,
   "id": "a49c20bd-1c82-4ab0-91b2-e3395c318cf5",
   "metadata": {},
   "outputs": [],
   "source": [
    "from sklearn.model_selection import train_test_split\n",
    "\n",
    "X_train, X_test, y_train, y_test = train_test_split(X, y, test_size=0.3, stratify=y, random_state=42)"
   ]
  },
  {
   "cell_type": "markdown",
   "id": "68f6d749-74e6-4a63-a526-8465a8858a8e",
   "metadata": {},
   "source": [
    "### Тюнинг гиперпараметров"
   ]
  },
  {
   "cell_type": "code",
   "execution_count": 176,
   "id": "5e816d6a-66ff-4db3-be23-d6d72341a347",
   "metadata": {
    "tags": []
   },
   "outputs": [
    {
     "name": "stdout",
     "output_type": "stream",
     "text": [
      "Fitting 5 folds for each of 1000 candidates, totalling 5000 fits\n"
     ]
    },
    {
     "data": {
      "text/plain": [
       "(0.9802721088435373,\n",
       " {'logreg__C': 1.5361203448195362,\n",
       "  'logreg__max_iter': 5000,\n",
       "  'prep__selector__k': 8,\n",
       "  'prep__selector__score_func': <function sklearn.feature_selection._mutual_info.mutual_info_classif(X, y, *, discrete_features='auto', n_neighbors=3, copy=True, random_state=None)>})"
      ]
     },
     "execution_count": 176,
     "metadata": {},
     "output_type": "execute_result"
    }
   ],
   "source": [
    "from sklearn.linear_model import LogisticRegression\n",
    "from sklearn.model_selection import RandomizedSearchCV\n",
    "\n",
    "from sklearn.feature_selection import chi2, f_classif, mutual_info_classif\n",
    "\n",
    "from scipy.stats import randint, uniform\n",
    "\n",
    "lr_pipe = Pipeline([\n",
    "    ('prep', prep_pipe),\n",
    "    ('logreg', LogisticRegression())\n",
    "])\n",
    "\n",
    "param_grid = {\n",
    "    'prep__selector__k': [7, 8, 9, 10, 11],\n",
    "    'prep__selector__score_func': [chi2, f_classif, mutual_info_classif],\n",
    "    'logreg__C': uniform(1, 10),\n",
    "    'logreg__max_iter': [5000]\n",
    "}\n",
    "\n",
    "gs = RandomizedSearchCV(\n",
    "    lr_pipe,\n",
    "    param_distributions=param_grid,\n",
    "    n_iter=1000,\n",
    "    n_jobs=-1,\n",
    "    cv=5,\n",
    "    verbose=2,\n",
    "    refit=True\n",
    ")\n",
    "\n",
    "gs.fit(X_train, y_train)\n",
    "gs.best_score_, gs.best_params_\n",
    "# logreg = LogisticRegression(max_iter=5000)\n",
    "# logreg.fit(X_train, y_train)\n",
    "# logreg.score(X_train, y_train), logreg.score(X_test, y_test)"
   ]
  },
  {
   "cell_type": "code",
   "execution_count": 180,
   "id": "99b8f948-5108-48cc-92f9-5567109a2781",
   "metadata": {
    "tags": []
   },
   "outputs": [],
   "source": [
    "logreg = gs.best_estimator_"
   ]
  },
  {
   "cell_type": "markdown",
   "id": "4c7f5c49-7919-4727-8360-d3b0209d416e",
   "metadata": {},
   "source": [
    "### Выборка признаков, дающих лучший результат"
   ]
  },
  {
   "cell_type": "code",
   "execution_count": 181,
   "id": "b25a2018-0d4a-4c7b-a92d-e7bc5d815428",
   "metadata": {},
   "outputs": [
    {
     "data": {
      "text/plain": [
       "array(['remainder__Number', 'remainder__RouteL', 'remainder__StdDevDist',\n",
       "       'remainder__MeanDist', 'remainder__StdDevDistm1',\n",
       "       'remainder__MeanDistm1', 'remainder__MeanAzChangem1',\n",
       "       'remainder__StdAzChangem1', 'remainder__StdDevDistToLast',\n",
       "       'remainder__MeanDistToLast', 'remainder__LastAnglChange'],\n",
       "      dtype=object)"
      ]
     },
     "execution_count": 181,
     "metadata": {},
     "output_type": "execute_result"
    }
   ],
   "source": [
    "names = logreg.named_steps['prep'].named_steps['dropper'].get_feature_names_out()\n",
    "names"
   ]
  },
  {
   "cell_type": "code",
   "execution_count": 182,
   "id": "83db1a94-256e-4bc1-9588-3da07ac15171",
   "metadata": {},
   "outputs": [
    {
     "data": {
      "text/plain": [
       "array(['x2', 'x3', 'x4', 'x5', 'x6', 'x8', 'x9', 'x10'], dtype=object)"
      ]
     },
     "execution_count": 182,
     "metadata": {},
     "output_type": "execute_result"
    }
   ],
   "source": [
    "selected_names = logreg.named_steps['prep'].named_steps['selector'].get_feature_names_out()\n",
    "selected_names"
   ]
  },
  {
   "cell_type": "code",
   "execution_count": 183,
   "id": "bfe2a6ff-c0e6-4035-b696-7a4d30f5b7e5",
   "metadata": {},
   "outputs": [
    {
     "data": {
      "text/plain": [
       "['StdDevDist',\n",
       " 'MeanDist',\n",
       " 'StdDevDistm1',\n",
       " 'MeanDistm1',\n",
       " 'MeanAzChangem1',\n",
       " 'StdDevDistToLast',\n",
       " 'MeanDistToLast',\n",
       " 'LastAnglChange']"
      ]
     },
     "execution_count": 183,
     "metadata": {},
     "output_type": "execute_result"
    }
   ],
   "source": [
    "selected_featues = []\n",
    "\n",
    "for selected_name in selected_names:\n",
    "    selected_name = int(selected_name[1:])\n",
    "    selected_featues.append(names[selected_name][11:])\n",
    "    \n",
    "selected_featues"
   ]
  },
  {
   "cell_type": "code",
   "execution_count": 184,
   "id": "e566650b-9163-4a36-ab83-d019ced91080",
   "metadata": {},
   "outputs": [
    {
     "data": {
      "text/plain": [
       "array([[527,   4,   7],\n",
       "       [  7,   9,   0],\n",
       "       [  1,   0,  75]], dtype=int64)"
      ]
     },
     "execution_count": 184,
     "metadata": {},
     "output_type": "execute_result"
    }
   ],
   "source": [
    "from sklearn.metrics import confusion_matrix\n",
    "\n",
    "confusion_matrix(y_true=y_test, y_pred=logreg.predict(X_test))"
   ]
  },
  {
   "cell_type": "code",
   "execution_count": 185,
   "id": "ed4dd341-ec95-4774-ba08-4d080fcd4b12",
   "metadata": {},
   "outputs": [
    {
     "data": {
      "text/plain": [
       "0.9757142857142858"
      ]
     },
     "execution_count": 185,
     "metadata": {},
     "output_type": "execute_result"
    }
   ],
   "source": [
    "logreg.fit(X, y)\n",
    "logreg.score(X, y)"
   ]
  },
  {
   "cell_type": "code",
   "execution_count": 186,
   "id": "1da38e13-7468-4fa6-9b76-2e8679544a9d",
   "metadata": {},
   "outputs": [
    {
     "data": {
      "text/html": [
       "<div>\n",
       "<style scoped>\n",
       "    .dataframe tbody tr th:only-of-type {\n",
       "        vertical-align: middle;\n",
       "    }\n",
       "\n",
       "    .dataframe tbody tr th {\n",
       "        vertical-align: top;\n",
       "    }\n",
       "\n",
       "    .dataframe thead th {\n",
       "        text-align: right;\n",
       "    }\n",
       "</style>\n",
       "<table border=\"1\" class=\"dataframe\">\n",
       "  <thead>\n",
       "    <tr style=\"text-align: right;\">\n",
       "      <th></th>\n",
       "      <th>CatalogStId</th>\n",
       "      <th>SidStarID</th>\n",
       "      <th>Number</th>\n",
       "      <th>RouteL</th>\n",
       "      <th>ProcedureType</th>\n",
       "      <th>StdDevDist</th>\n",
       "      <th>MeanDist</th>\n",
       "      <th>StdDevDistm1</th>\n",
       "      <th>MeanDistm1</th>\n",
       "      <th>MeanAzChangem1</th>\n",
       "      <th>StdAzChangem1</th>\n",
       "      <th>StdDevDistToLast</th>\n",
       "      <th>MeanDistToLast</th>\n",
       "      <th>LastAnglChange</th>\n",
       "    </tr>\n",
       "  </thead>\n",
       "  <tbody>\n",
       "    <tr>\n",
       "      <th>0</th>\n",
       "      <td>2167</td>\n",
       "      <td>513</td>\n",
       "      <td>8</td>\n",
       "      <td>6</td>\n",
       "      <td>trombone</td>\n",
       "      <td>1.191977</td>\n",
       "      <td>10.517558</td>\n",
       "      <td>0.006818</td>\n",
       "      <td>9.984496</td>\n",
       "      <td>0.017087</td>\n",
       "      <td>0.001720</td>\n",
       "      <td>11.987564</td>\n",
       "      <td>25.370561</td>\n",
       "      <td>89.986418</td>\n",
       "    </tr>\n",
       "    <tr>\n",
       "      <th>1</th>\n",
       "      <td>2167</td>\n",
       "      <td>513</td>\n",
       "      <td>9</td>\n",
       "      <td>5</td>\n",
       "      <td>trombone</td>\n",
       "      <td>1.330951</td>\n",
       "      <td>10.653378</td>\n",
       "      <td>0.000266</td>\n",
       "      <td>9.987903</td>\n",
       "      <td>0.017332</td>\n",
       "      <td>0.002358</td>\n",
       "      <td>8.818147</td>\n",
       "      <td>21.238204</td>\n",
       "      <td>89.986418</td>\n",
       "    </tr>\n",
       "    <tr>\n",
       "      <th>2</th>\n",
       "      <td>2167</td>\n",
       "      <td>513</td>\n",
       "      <td>10</td>\n",
       "      <td>4</td>\n",
       "      <td>trombone</td>\n",
       "      <td>1.536762</td>\n",
       "      <td>10.875305</td>\n",
       "      <td>0.000040</td>\n",
       "      <td>9.988056</td>\n",
       "      <td>0.015665</td>\n",
       "      <td>0.000000</td>\n",
       "      <td>5.623555</td>\n",
       "      <td>17.474004</td>\n",
       "      <td>89.986418</td>\n",
       "    </tr>\n",
       "    <tr>\n",
       "      <th>3</th>\n",
       "      <td>2167</td>\n",
       "      <td>517</td>\n",
       "      <td>8</td>\n",
       "      <td>6</td>\n",
       "      <td>trombone</td>\n",
       "      <td>1.191977</td>\n",
       "      <td>10.517558</td>\n",
       "      <td>0.006818</td>\n",
       "      <td>9.984496</td>\n",
       "      <td>0.017087</td>\n",
       "      <td>0.001720</td>\n",
       "      <td>11.987564</td>\n",
       "      <td>25.370561</td>\n",
       "      <td>89.986418</td>\n",
       "    </tr>\n",
       "    <tr>\n",
       "      <th>4</th>\n",
       "      <td>2167</td>\n",
       "      <td>517</td>\n",
       "      <td>9</td>\n",
       "      <td>5</td>\n",
       "      <td>trombone</td>\n",
       "      <td>1.330951</td>\n",
       "      <td>10.653378</td>\n",
       "      <td>0.000266</td>\n",
       "      <td>9.987903</td>\n",
       "      <td>0.017332</td>\n",
       "      <td>0.002358</td>\n",
       "      <td>8.818147</td>\n",
       "      <td>21.238204</td>\n",
       "      <td>89.986418</td>\n",
       "    </tr>\n",
       "  </tbody>\n",
       "</table>\n",
       "</div>"
      ],
      "text/plain": [
       "   CatalogStId  SidStarID  Number  RouteL ProcedureType  StdDevDist  \\\n",
       "0         2167        513       8       6      trombone    1.191977   \n",
       "1         2167        513       9       5      trombone    1.330951   \n",
       "2         2167        513      10       4      trombone    1.536762   \n",
       "3         2167        517       8       6      trombone    1.191977   \n",
       "4         2167        517       9       5      trombone    1.330951   \n",
       "\n",
       "    MeanDist  StdDevDistm1  MeanDistm1  MeanAzChangem1  StdAzChangem1  \\\n",
       "0  10.517558      0.006818    9.984496        0.017087       0.001720   \n",
       "1  10.653378      0.000266    9.987903        0.017332       0.002358   \n",
       "2  10.875305      0.000040    9.988056        0.015665       0.000000   \n",
       "3  10.517558      0.006818    9.984496        0.017087       0.001720   \n",
       "4  10.653378      0.000266    9.987903        0.017332       0.002358   \n",
       "\n",
       "   StdDevDistToLast  MeanDistToLast  LastAnglChange  \n",
       "0         11.987564       25.370561       89.986418  \n",
       "1          8.818147       21.238204       89.986418  \n",
       "2          5.623555       17.474004       89.986418  \n",
       "3         11.987564       25.370561       89.986418  \n",
       "4          8.818147       21.238204       89.986418  "
      ]
     },
     "execution_count": 186,
     "metadata": {},
     "output_type": "execute_result"
    }
   ],
   "source": [
    "test = pd.read_csv('TestPatterns.csv')\n",
    "test.head()"
   ]
  },
  {
   "cell_type": "code",
   "execution_count": 187,
   "id": "c27c78d1-9da6-48bb-9866-8c5546422600",
   "metadata": {},
   "outputs": [
    {
     "data": {
      "text/plain": [
       "(2343, 14)"
      ]
     },
     "execution_count": 187,
     "metadata": {},
     "output_type": "execute_result"
    }
   ],
   "source": [
    "test.shape"
   ]
  },
  {
   "cell_type": "code",
   "execution_count": 188,
   "id": "9d46d224-32d9-4120-ad4f-1cda319eb027",
   "metadata": {},
   "outputs": [
    {
     "name": "stdout",
     "output_type": "stream",
     "text": [
      "<class 'pandas.core.frame.DataFrame'>\n",
      "RangeIndex: 2343 entries, 0 to 2342\n",
      "Data columns (total 14 columns):\n",
      " #   Column            Non-Null Count  Dtype  \n",
      "---  ------            --------------  -----  \n",
      " 0   CatalogStId       2343 non-null   int64  \n",
      " 1   SidStarID         2343 non-null   int64  \n",
      " 2   Number            2343 non-null   int64  \n",
      " 3   RouteL            2343 non-null   int64  \n",
      " 4   ProcedureType     2343 non-null   object \n",
      " 5   StdDevDist        2343 non-null   float64\n",
      " 6   MeanDist          2343 non-null   float64\n",
      " 7   StdDevDistm1      2343 non-null   float64\n",
      " 8   MeanDistm1        2343 non-null   float64\n",
      " 9   MeanAzChangem1    2343 non-null   float64\n",
      " 10  StdAzChangem1     2343 non-null   float64\n",
      " 11  StdDevDistToLast  2343 non-null   float64\n",
      " 12  MeanDistToLast    2343 non-null   float64\n",
      " 13  LastAnglChange    2343 non-null   float64\n",
      "dtypes: float64(9), int64(4), object(1)\n",
      "memory usage: 256.4+ KB\n"
     ]
    }
   ],
   "source": [
    "test.info()"
   ]
  },
  {
   "cell_type": "code",
   "execution_count": 189,
   "id": "034ce216-1695-4f89-bb3d-eab983deac7a",
   "metadata": {},
   "outputs": [],
   "source": [
    "X_t = test.drop(columns=['ProcedureType'])\n",
    "y_t = test['ProcedureType']"
   ]
  },
  {
   "cell_type": "code",
   "execution_count": 190,
   "id": "41663a70-7402-4c4f-8713-f5b0f9beb786",
   "metadata": {},
   "outputs": [],
   "source": [
    "y_t = target_le.transform(y_t)"
   ]
  },
  {
   "cell_type": "markdown",
   "id": "a2e43df8-907f-4567-8321-87aa08f28682",
   "metadata": {},
   "source": [
    "### Оценка точности классификации"
   ]
  },
  {
   "cell_type": "code",
   "execution_count": 191,
   "id": "4ede973a-c355-418f-ba45-cb4ff8225c61",
   "metadata": {},
   "outputs": [
    {
     "data": {
      "text/plain": [
       "0.9334186939820742"
      ]
     },
     "execution_count": 191,
     "metadata": {},
     "output_type": "execute_result"
    }
   ],
   "source": [
    "from sklearn.metrics import accuracy_score\n",
    "accuracy_score(y_true=y_t, y_pred=logreg.predict(X_t))"
   ]
  },
  {
   "cell_type": "code",
   "execution_count": 192,
   "id": "455ff6ca-cd4a-4bce-b27d-6da9f79cd5f9",
   "metadata": {},
   "outputs": [
    {
     "data": {
      "text/plain": [
       "array([[1899,   34,   29],\n",
       "       [  88,   92,    0],\n",
       "       [   5,    0,  196]], dtype=int64)"
      ]
     },
     "execution_count": 192,
     "metadata": {},
     "output_type": "execute_result"
    }
   ],
   "source": [
    "confusion_matrix(y_true=y_t, y_pred=logreg.predict(X_t))"
   ]
  },
  {
   "cell_type": "markdown",
   "id": "7a2683e9-c49f-4bc9-a501-3b80daa34d56",
   "metadata": {},
   "source": [
    "### Удаление шага автоматической выборки признаков из итогового оценщика"
   ]
  },
  {
   "cell_type": "code",
   "execution_count": 294,
   "id": "726b95bb-33d5-413d-8d80-3458d8ea38f0",
   "metadata": {},
   "outputs": [],
   "source": [
    "col_selector = ColumnTransformer([\n",
    "    ('nothing', 'passthrough', selected_featues),\n",
    "], remainder='drop')\n",
    "\n",
    "prep_pipe_lr = Pipeline([\n",
    "    ('selector', col_selector),\n",
    "    ('scaler', StandardScaler())\n",
    "])"
   ]
  },
  {
   "cell_type": "code",
   "execution_count": 298,
   "id": "971e852e-a6b6-4b2b-ba18-f15983f6ce91",
   "metadata": {},
   "outputs": [
    {
     "data": {
      "text/plain": [
       "0.9334186939820742"
      ]
     },
     "execution_count": 298,
     "metadata": {},
     "output_type": "execute_result"
    }
   ],
   "source": [
    "logreg = Pipeline([\n",
    "    ('prep', prep_pipe_lr),\n",
    "    ('logreg', LogisticRegression(C=1.5361203448195362, max_iter=5000))\n",
    "])\n",
    "\n",
    "logreg.fit(X, y)\n",
    "\n",
    "accuracy_score(y_true=y_t, y_pred=logreg.predict(X_t))"
   ]
  },
  {
   "cell_type": "markdown",
   "id": "d49909bd-0a4b-4923-bd9a-5a83523ed53e",
   "metadata": {},
   "source": [
    "## Дерево решений"
   ]
  },
  {
   "cell_type": "code",
   "execution_count": 195,
   "id": "b473a589-8b65-4a26-b165-d2e5396b6627",
   "metadata": {},
   "outputs": [],
   "source": [
    "col_selector = ColumnTransformer([\n",
    "    ('nothing', 'passthrough', selected_featues),\n",
    "], remainder='drop')"
   ]
  },
  {
   "cell_type": "markdown",
   "id": "8ce5b96f-7a8f-40f4-8e76-c16b70d8c44f",
   "metadata": {},
   "source": [
    "### Тюнинг гиперпараметров"
   ]
  },
  {
   "cell_type": "code",
   "execution_count": 225,
   "id": "3441854d-38d4-42db-afbc-4220de812c8e",
   "metadata": {
    "tags": []
   },
   "outputs": [
    {
     "name": "stdout",
     "output_type": "stream",
     "text": [
      "Fitting 5 folds for each of 1000 candidates, totalling 5000 fits\n"
     ]
    },
    {
     "data": {
      "text/plain": [
       "(0.9945578231292517,\n",
       " {'tree__max_depth': 6, 'tree__max_features': 7, 'tree__max_leaf_nodes': 17})"
      ]
     },
     "execution_count": 225,
     "metadata": {},
     "output_type": "execute_result"
    }
   ],
   "source": [
    "from sklearn.tree import DecisionTreeClassifier\n",
    "from scipy.stats import randint, uniform\n",
    "\n",
    "tree_pipe = Pipeline([\n",
    "    ('prep', col_selector),\n",
    "    ('tree', DecisionTreeClassifier())\n",
    "])\n",
    "\n",
    "param_grid = {\n",
    "    'tree__max_depth': randint(1, 8),\n",
    "    'tree__max_features': randint(2, 8),\n",
    "    'tree__max_leaf_nodes': randint(2, 20)\n",
    "}\n",
    "\n",
    "gs_tree = RandomizedSearchCV(\n",
    "    tree_pipe,\n",
    "    param_distributions=param_grid,\n",
    "    n_iter=1000,\n",
    "    n_jobs=-1,\n",
    "    cv=5,\n",
    "    verbose=2,\n",
    "    refit=True\n",
    ")\n",
    "\n",
    "gs_tree.fit(X_train, y_train)\n",
    "gs_tree.best_score_, gs_tree.best_params_"
   ]
  },
  {
   "cell_type": "code",
   "execution_count": 226,
   "id": "8de62b4b-7a4b-449a-bb67-4e29dd411ac6",
   "metadata": {
    "tags": []
   },
   "outputs": [],
   "source": [
    "tree = gs_tree.best_estimator_"
   ]
  },
  {
   "cell_type": "code",
   "execution_count": 227,
   "id": "3b15e500-6db7-4309-8898-8c12fdf9de48",
   "metadata": {},
   "outputs": [
    {
     "data": {
      "text/plain": [
       "array([[531,   0,   7],\n",
       "       [  0,  16,   0],\n",
       "       [  1,   0,  75]], dtype=int64)"
      ]
     },
     "execution_count": 227,
     "metadata": {},
     "output_type": "execute_result"
    }
   ],
   "source": [
    "from sklearn.metrics import confusion_matrix\n",
    "\n",
    "confusion_matrix(y_true=y_test, y_pred=tree.predict(X_test))"
   ]
  },
  {
   "cell_type": "code",
   "execution_count": 228,
   "id": "555b2aec-1d21-4bca-b6d8-786a9a8a6fa0",
   "metadata": {},
   "outputs": [
    {
     "data": {
      "text/plain": [
       "0.9873015873015873"
      ]
     },
     "execution_count": 228,
     "metadata": {},
     "output_type": "execute_result"
    }
   ],
   "source": [
    "accuracy_score(y_true=y_test, y_pred=tree.predict(X_test))"
   ]
  },
  {
   "cell_type": "code",
   "execution_count": 229,
   "id": "4a13db8a-73fb-4daa-99ff-aad7b7c4a817",
   "metadata": {},
   "outputs": [
    {
     "data": {
      "text/plain": [
       "0.9966666666666667"
      ]
     },
     "execution_count": 229,
     "metadata": {},
     "output_type": "execute_result"
    }
   ],
   "source": [
    "tree.fit(X, y)\n",
    "tree.score(X, y)"
   ]
  },
  {
   "cell_type": "markdown",
   "id": "e7c2d0c4-0e56-4c0f-a92e-6ece21f7b841",
   "metadata": {},
   "source": [
    "### Оценка точности классификации"
   ]
  },
  {
   "cell_type": "code",
   "execution_count": 230,
   "id": "61664414-469e-403e-9117-aeada39a0279",
   "metadata": {},
   "outputs": [
    {
     "data": {
      "text/plain": [
       "0.9726845924029023"
      ]
     },
     "execution_count": 230,
     "metadata": {},
     "output_type": "execute_result"
    }
   ],
   "source": [
    "accuracy_score(y_true=y_t, y_pred=tree.predict(X_t))"
   ]
  },
  {
   "cell_type": "code",
   "execution_count": 231,
   "id": "0c27233f-3113-4389-86d3-1739f976cd6a",
   "metadata": {},
   "outputs": [
    {
     "data": {
      "text/plain": [
       "array([[1945,    8,    9],\n",
       "       [  42,  138,    0],\n",
       "       [   5,    0,  196]], dtype=int64)"
      ]
     },
     "execution_count": 231,
     "metadata": {},
     "output_type": "execute_result"
    }
   ],
   "source": [
    "confusion_matrix(y_true=y_t, y_pred=tree.predict(X_t))"
   ]
  },
  {
   "cell_type": "code",
   "execution_count": 243,
   "id": "3a2079e6-ae21-4417-9f0f-c95ed95b4513",
   "metadata": {},
   "outputs": [
    {
     "data": {
      "text/plain": [
       "{'StdDevDist': 0.03811070184386233,\n",
       " 'MeanDist': 0.0,\n",
       " 'StdDevDistm1': 0.0037882825432808873,\n",
       " 'MeanDistm1': 0.010267472801813306,\n",
       " 'MeanAzChangem1': 0.04823708864139131,\n",
       " 'StdDevDistToLast': 0.7669407429133636,\n",
       " 'MeanDistToLast': 0.0140608693527548,\n",
       " 'LastAnglChange': 0.11859484190353364}"
      ]
     },
     "execution_count": 243,
     "metadata": {},
     "output_type": "execute_result"
    }
   ],
   "source": [
    "t = tree.named_steps['tree']\n",
    "feat_imps = dict(zip(selected_featues, t.feature_importances_))\n",
    "feat_imps"
   ]
  },
  {
   "cell_type": "code",
   "execution_count": 239,
   "id": "dfe3faf3-dbd5-48e4-8b8b-7f43265b6c80",
   "metadata": {},
   "outputs": [
    {
     "data": {
      "image/png": "[encoded data removed]",
      "text/plain": [
       "<Figure size 1800x1080 with 1 Axes>"
      ]
     },
     "metadata": {
      "needs_background": "light"
     },
     "output_type": "display_data"
    }
   ],
   "source": [
    "from sklearn.tree import plot_tree\n",
    "import matplotlib.pyplot as plt\n",
    "\n",
    "fig, ax = plt.subplots(figsize=(25, 15))\n",
    "plot_tree(tree.named_steps['tree'], ax=ax)\n",
    "plt.show()"
   ]
  },
  {
   "cell_type": "markdown",
   "id": "2df7dbb2-0e64-4981-bc7f-b804bf02884e",
   "metadata": {},
   "source": [
    "## Метод опорных векторов"
   ]
  },
  {
   "cell_type": "code",
   "execution_count": 244,
   "id": "0b65d28f-f857-4c30-92e0-3fb2687b761b",
   "metadata": {},
   "outputs": [],
   "source": [
    "prep_pipe_svm = Pipeline([\n",
    "    ('selector', col_selector),\n",
    "    ('scaler', StandardScaler())\n",
    "])"
   ]
  },
  {
   "cell_type": "markdown",
   "id": "87dbd54f-2cd3-4e9d-aad4-f0fa9c8e51e8",
   "metadata": {},
   "source": [
    "### Тюнинг гиперпараметров"
   ]
  },
  {
   "cell_type": "code",
   "execution_count": 246,
   "id": "c264fd5c-55df-453e-a847-e72af973e14f",
   "metadata": {
    "tags": []
   },
   "outputs": [
    {
     "name": "stdout",
     "output_type": "stream",
     "text": [
      "Fitting 5 folds for each of 500 candidates, totalling 2500 fits\n"
     ]
    },
    {
     "data": {
      "text/plain": [
       "(0.9829931972789115,\n",
       " {'svc__C': 8.302487522037492, 'svc__gamma': 0.09573157681224062})"
      ]
     },
     "execution_count": 246,
     "metadata": {},
     "output_type": "execute_result"
    }
   ],
   "source": [
    "from sklearn.svm import SVC\n",
    "from scipy.stats import reciprocal\n",
    "\n",
    "svm_pipe = Pipeline([\n",
    "    ('prep', prep_pipe_svm),\n",
    "    ('svc', SVC(probability=True))\n",
    "])\n",
    "\n",
    "param_grid = {\n",
    "    'svc__gamma': reciprocal(0.0001, 0.1),\n",
    "    'svc__C': uniform(1, 10)\n",
    "}\n",
    "\n",
    "gs_svm = RandomizedSearchCV(\n",
    "    svm_pipe,\n",
    "    param_distributions=param_grid,\n",
    "    n_iter=500,\n",
    "    n_jobs=-1,\n",
    "    cv=5,\n",
    "    verbose=2,\n",
    "    refit=True\n",
    ")\n",
    "\n",
    "gs_svm.fit(X_train, y_train)\n",
    "gs_svm.best_score_, gs_svm.best_params_\n",
    "# logreg = LogisticRegression(max_iter=5000)\n",
    "# logreg.fit(X_train, y_train)\n",
    "# logreg.score(X_train, y_train), logreg.score(X_test, y_test)"
   ]
  },
  {
   "cell_type": "code",
   "execution_count": 247,
   "id": "18cd11d5-36d0-4706-97dd-67f41b5cbdf4",
   "metadata": {
    "tags": []
   },
   "outputs": [],
   "source": [
    "svm = gs_svm.best_estimator_"
   ]
  },
  {
   "cell_type": "code",
   "execution_count": 248,
   "id": "e1de0a55-ee91-45a3-b205-671d992bcac3",
   "metadata": {},
   "outputs": [
    {
     "data": {
      "text/plain": [
       "array([[525,   6,   7],\n",
       "       [  6,  10,   0],\n",
       "       [  0,   0,  76]], dtype=int64)"
      ]
     },
     "execution_count": 248,
     "metadata": {},
     "output_type": "execute_result"
    }
   ],
   "source": [
    "from sklearn.metrics import confusion_matrix\n",
    "\n",
    "confusion_matrix(y_true=y_test, y_pred=svm.predict(X_test))"
   ]
  },
  {
   "cell_type": "code",
   "execution_count": 249,
   "id": "d693fdf3-7318-4342-87cc-c6ca4a49725c",
   "metadata": {},
   "outputs": [
    {
     "data": {
      "text/plain": [
       "0.9698412698412698"
      ]
     },
     "execution_count": 249,
     "metadata": {},
     "output_type": "execute_result"
    }
   ],
   "source": [
    "accuracy_score(y_true=y_test, y_pred=svm.predict(X_test))"
   ]
  },
  {
   "cell_type": "code",
   "execution_count": 251,
   "id": "3262f7bc-00df-4f4c-b7d4-35079179737a",
   "metadata": {},
   "outputs": [
    {
     "data": {
      "text/plain": [
       "0.9842857142857143"
      ]
     },
     "execution_count": 251,
     "metadata": {},
     "output_type": "execute_result"
    }
   ],
   "source": [
    "svm.fit(X, y)\n",
    "svm.score(X, y)"
   ]
  },
  {
   "cell_type": "markdown",
   "id": "40ee28a2-77e7-466f-aa6f-87b0623074c3",
   "metadata": {},
   "source": [
    "### Оценка точности классификации"
   ]
  },
  {
   "cell_type": "code",
   "execution_count": 252,
   "id": "1b7c7bda-7a08-4f9e-96eb-27513c901811",
   "metadata": {},
   "outputs": [
    {
     "data": {
      "text/plain": [
       "0.9466495945369184"
      ]
     },
     "execution_count": 252,
     "metadata": {},
     "output_type": "execute_result"
    }
   ],
   "source": [
    "accuracy_score(y_true=y_t, y_pred=svm.predict(X_t))"
   ]
  },
  {
   "cell_type": "code",
   "execution_count": 253,
   "id": "a8720066-6868-4dd6-b8a7-d697eb6c0ff9",
   "metadata": {},
   "outputs": [
    {
     "data": {
      "text/plain": [
       "array([[1902,   45,   15],\n",
       "       [  42,  138,    0],\n",
       "       [  23,    0,  178]], dtype=int64)"
      ]
     },
     "execution_count": 253,
     "metadata": {},
     "output_type": "execute_result"
    }
   ],
   "source": [
    "confusion_matrix(y_true=y_t, y_pred=svm.predict(X_t))"
   ]
  },
  {
   "cell_type": "markdown",
   "id": "a219f006-9c76-418a-9097-2df1b2adfea6",
   "metadata": {},
   "source": [
    "## Случайный лес"
   ]
  },
  {
   "cell_type": "markdown",
   "id": "795c1ead-a59a-4d5e-b9b2-49fbc8e9bf2f",
   "metadata": {},
   "source": [
    "### Тюнинг гиперпараметров"
   ]
  },
  {
   "cell_type": "code",
   "execution_count": 284,
   "id": "eed4c141-8b70-4028-b0a6-3331fd7d0477",
   "metadata": {
    "tags": []
   },
   "outputs": [
    {
     "name": "stdout",
     "output_type": "stream",
     "text": [
      "Fitting 5 folds for each of 500 candidates, totalling 2500 fits\n"
     ]
    },
    {
     "data": {
      "text/plain": [
       "(0.9945578231292517,\n",
       " {'forest__max_depth': 7,\n",
       "  'forest__max_features': 6,\n",
       "  'forest__max_leaf_nodes': 13,\n",
       "  'forest__n_estimators': 50})"
      ]
     },
     "execution_count": 284,
     "metadata": {},
     "output_type": "execute_result"
    }
   ],
   "source": [
    "from sklearn.ensemble import RandomForestClassifier\n",
    "\n",
    "forest_pipe = Pipeline([\n",
    "    ('prep', col_selector),\n",
    "    ('forest', RandomForestClassifier(n_jobs=-1))\n",
    "])\n",
    "\n",
    "param_grid = {\n",
    "    'forest__n_estimators': [50, 100, 150, 200, 250],\n",
    "    'forest__max_depth': randint(1, 8),\n",
    "    'forest__max_features': randint(2, 8),\n",
    "    'forest__max_leaf_nodes': randint(2, 20)\n",
    "}\n",
    "\n",
    "gs_forest = RandomizedSearchCV(\n",
    "    forest_pipe,\n",
    "    param_distributions=param_grid,\n",
    "    n_iter=500,\n",
    "    n_jobs=-1,\n",
    "    cv=5,\n",
    "    verbose=2,\n",
    "    refit=True\n",
    ")\n",
    "\n",
    "gs_forest.fit(X_train, y_train)\n",
    "gs_forest.best_score_, gs_forest.best_params_\n",
    "# logreg = LogisticRegression(max_iter=5000)\n",
    "# logreg.fit(X_train, y_train)\n",
    "# logreg.score(X_train, y_train), logreg.score(X_test, y_test)"
   ]
  },
  {
   "cell_type": "code",
   "execution_count": 285,
   "id": "398b7d60-a36a-42bc-9973-f2563fea6224",
   "metadata": {
    "tags": []
   },
   "outputs": [],
   "source": [
    "forest = gs_forest.best_estimator_"
   ]
  },
  {
   "cell_type": "code",
   "execution_count": 286,
   "id": "b525b135-b366-4167-a6da-8904e86bdd0a",
   "metadata": {},
   "outputs": [
    {
     "data": {
      "text/plain": [
       "array([[533,   0,   5],\n",
       "       [  1,  15,   0],\n",
       "       [  1,   0,  75]], dtype=int64)"
      ]
     },
     "execution_count": 286,
     "metadata": {},
     "output_type": "execute_result"
    }
   ],
   "source": [
    "from sklearn.metrics import confusion_matrix\n",
    "\n",
    "confusion_matrix(y_true=y_test, y_pred=forest.predict(X_test))"
   ]
  },
  {
   "cell_type": "code",
   "execution_count": 287,
   "id": "90c7fb1e-dd24-4126-b482-efdedef36ebb",
   "metadata": {},
   "outputs": [
    {
     "data": {
      "text/plain": [
       "0.9888888888888889"
      ]
     },
     "execution_count": 287,
     "metadata": {},
     "output_type": "execute_result"
    }
   ],
   "source": [
    "accuracy_score(y_true=y_test, y_pred=forest.predict(X_test))"
   ]
  },
  {
   "cell_type": "code",
   "execution_count": 288,
   "id": "77ca10e2-dc1e-453f-9cb4-7af92dbe711d",
   "metadata": {},
   "outputs": [
    {
     "data": {
      "text/plain": [
       "0.9942857142857143"
      ]
     },
     "execution_count": 288,
     "metadata": {},
     "output_type": "execute_result"
    }
   ],
   "source": [
    "forest.fit(X, y)\n",
    "forest.score(X, y)"
   ]
  },
  {
   "cell_type": "markdown",
   "id": "7b22488e-447e-4a28-aca5-02552b5e4e3f",
   "metadata": {},
   "source": [
    "### Оценка точности классификации"
   ]
  },
  {
   "cell_type": "code",
   "execution_count": 289,
   "id": "4e61b0dc-36a9-4e31-9d74-42c2032f7832",
   "metadata": {},
   "outputs": [
    {
     "data": {
      "text/plain": [
       "0.9731113956466069"
      ]
     },
     "execution_count": 289,
     "metadata": {},
     "output_type": "execute_result"
    }
   ],
   "source": [
    "accuracy_score(y_true=y_t, y_pred=forest.predict(X_t))"
   ]
  },
  {
   "cell_type": "code",
   "execution_count": 290,
   "id": "e3353dd6-31ae-4beb-85c8-002f38c1cbba",
   "metadata": {},
   "outputs": [
    {
     "data": {
      "text/plain": [
       "array([[1946,    0,   16],\n",
       "       [  42,  138,    0],\n",
       "       [   5,    0,  196]], dtype=int64)"
      ]
     },
     "execution_count": 290,
     "metadata": {},
     "output_type": "execute_result"
    }
   ],
   "source": [
    "confusion_matrix(y_true=y_t, y_pred=forest.predict(X_t))"
   ]
  },
  {
   "cell_type": "markdown",
   "id": "7f976822-71f8-4638-bf63-d727dbdd2f9f",
   "metadata": {},
   "source": [
    "## Многослойный персептрон"
   ]
  },
  {
   "cell_type": "code",
   "execution_count": 313,
   "id": "4ba2c5b5-0a68-4a60-8564-712664ed42f1",
   "metadata": {},
   "outputs": [],
   "source": [
    "prep_pipe_mlp = Pipeline([\n",
    "    ('selector', col_selector),\n",
    "    ('scaler', StandardScaler())\n",
    "])"
   ]
  },
  {
   "cell_type": "markdown",
   "id": "97a3a483-0464-4143-9518-85916ed73da6",
   "metadata": {},
   "source": [
    "### Тюнинг гиперпараметров"
   ]
  },
  {
   "cell_type": "code",
   "execution_count": 323,
   "id": "2997e27c-2f1c-4be0-b14a-6e25dae6fa4f",
   "metadata": {
    "tags": []
   },
   "outputs": [
    {
     "name": "stdout",
     "output_type": "stream",
     "text": [
      "Fitting 5 folds for each of 100 candidates, totalling 500 fits\n"
     ]
    },
    {
     "data": {
      "text/plain": [
       "(0.9938775510204081,\n",
       " {'mlp__activation': 'relu',\n",
       "  'mlp__alpha': 0.0020562482893099064,\n",
       "  'mlp__hidden_layer_sizes': (100, 50),\n",
       "  'mlp__max_iter': 500,\n",
       "  'mlp__solver': 'lbfgs'})"
      ]
     },
     "execution_count": 323,
     "metadata": {},
     "output_type": "execute_result"
    }
   ],
   "source": [
    "from sklearn.neural_network import MLPClassifier\n",
    "\n",
    "mlp_pipe = Pipeline([\n",
    "    ('prep', prep_pipe_mlp),\n",
    "    ('mlp', MLPClassifier())\n",
    "])\n",
    "\n",
    "param_grid = {\n",
    "    'mlp__hidden_layer_sizes': [(50, 100), (100, 50), (100, 100), (50, 50, 50), (50, 50)],\n",
    "    'mlp__activation': ['relu', 'logistic'],\n",
    "    'mlp__solver': ['lbfgs'],\n",
    "    'mlp__alpha': reciprocal(0.0001, 0.01),\n",
    "    'mlp__max_iter': [500]\n",
    "}\n",
    "\n",
    "\n",
    "gs_mlp = RandomizedSearchCV(\n",
    "    mlp_pipe,\n",
    "    param_distributions=param_grid,\n",
    "    n_iter=100,\n",
    "    n_jobs=-1,\n",
    "    cv=5,\n",
    "    verbose=2,\n",
    "    refit=True\n",
    ")\n",
    "\n",
    "gs_mlp.fit(X_train, y_train)\n",
    "gs_mlp.best_score_, gs_mlp.best_params_"
   ]
  },
  {
   "cell_type": "code",
   "execution_count": 324,
   "id": "fa860885-923e-42c2-919a-2c38c77cd56a",
   "metadata": {
    "tags": []
   },
   "outputs": [],
   "source": [
    "mlp = gs_mlp.best_estimator_"
   ]
  },
  {
   "cell_type": "code",
   "execution_count": 325,
   "id": "2ca07117-16a1-482f-bb9f-42aac5e1ebbb",
   "metadata": {},
   "outputs": [
    {
     "data": {
      "text/plain": [
       "array([[532,   1,   5],\n",
       "       [  0,  16,   0],\n",
       "       [  1,   0,  75]], dtype=int64)"
      ]
     },
     "execution_count": 325,
     "metadata": {},
     "output_type": "execute_result"
    }
   ],
   "source": [
    "from sklearn.metrics import confusion_matrix\n",
    "\n",
    "confusion_matrix(y_true=y_test, y_pred=mlp.predict(X_test))"
   ]
  },
  {
   "cell_type": "code",
   "execution_count": 326,
   "id": "a87122e4-20dc-45eb-8dfd-fa8a6e4aec84",
   "metadata": {},
   "outputs": [
    {
     "data": {
      "text/plain": [
       "0.9888888888888889"
      ]
     },
     "execution_count": 326,
     "metadata": {},
     "output_type": "execute_result"
    }
   ],
   "source": [
    "accuracy_score(y_true=y_test, y_pred=mlp.predict(X_test))"
   ]
  },
  {
   "cell_type": "code",
   "execution_count": 327,
   "id": "248d8e56-f62e-4b50-bc64-ffb781bfdf9b",
   "metadata": {},
   "outputs": [
    {
     "data": {
      "text/plain": [
       "0.9971428571428571"
      ]
     },
     "execution_count": 327,
     "metadata": {},
     "output_type": "execute_result"
    }
   ],
   "source": [
    "mlp.fit(X, y)\n",
    "mlp.score(X, y)"
   ]
  },
  {
   "cell_type": "markdown",
   "id": "adf603df-8de7-4212-af5b-20fb8960a448",
   "metadata": {},
   "source": [
    "### Оценка точности классификации"
   ]
  },
  {
   "cell_type": "code",
   "execution_count": 328,
   "id": "3a11470e-ddc6-4f19-a3bc-4600364b062f",
   "metadata": {},
   "outputs": [
    {
     "data": {
      "text/plain": [
       "0.9449423815620999"
      ]
     },
     "execution_count": 328,
     "metadata": {},
     "output_type": "execute_result"
    }
   ],
   "source": [
    "accuracy_score(y_true=y_t, y_pred=mlp.predict(X_t))"
   ]
  },
  {
   "cell_type": "code",
   "execution_count": 329,
   "id": "5947cf68-e81f-4a48-8209-c2b840198318",
   "metadata": {},
   "outputs": [
    {
     "data": {
      "text/plain": [
       "array([[1948,    7,    7],\n",
       "       [  42,  138,    0],\n",
       "       [  73,    0,  128]], dtype=int64)"
      ]
     },
     "execution_count": 329,
     "metadata": {},
     "output_type": "execute_result"
    }
   ],
   "source": [
    "confusion_matrix(y_true=y_t, y_pred=mlp.predict(X_t))"
   ]
  },
  {
   "cell_type": "markdown",
   "id": "261ef58f-7939-4d0e-8a8c-833f6e0a79d3",
   "metadata": {},
   "source": [
    "## Сохранение лучших оценщиков"
   ]
  },
  {
   "cell_type": "code",
   "execution_count": 467,
   "id": "d325b365-aa30-480c-86b2-e4107df22cc2",
   "metadata": {},
   "outputs": [],
   "source": [
    "import datetime\n",
    "import dill\n",
    "dill.settings['recurse'] = True\n",
    "\n",
    "for clf, label in zip([logreg, tree, svm, forest, mlp], ['logreg', 'tree', 'svc', 'forest', 'mlp']):\n",
    "    filename = 'flattern_model_' + label + '.pkl'\n",
    "\n",
    "    with open(filename, 'wb') as file:\n",
    "        dill.dump(\n",
    "            {\n",
    "                'model': clf,\n",
    "                'label_encoder': target_le,\n",
    "                'metadata': {\n",
    "                    'name': 'Flight pattern classification model for simulation modelling.',\n",
    "                    'author': 'Nikolay Popov',\n",
    "                    'version': 1,\n",
    "                    'date': datetime.datetime.now(),\n",
    "                    'type': type(clf.named_steps[label]).__name__,\n",
    "                    'test_accuracy': accuracy_score(y_true=y_t, y_pred=clf.predict(X_t))\n",
    "                }\n",
    "            }, file\n",
    "        )"
   ]
  },
  {
   "cell_type": "markdown",
   "id": "263f7f14-6280-4a62-bc79-2e09fa611504",
   "metadata": {},
   "source": [
    "## Объединение оценщиков в ансамбль"
   ]
  },
  {
   "cell_type": "code",
   "execution_count": 331,
   "id": "13c1a48a-59ce-460e-9dc6-f13f6c9a1666",
   "metadata": {},
   "outputs": [
    {
     "name": "stdout",
     "output_type": "stream",
     "text": [
      "Accuracy: 0.98 (+/- 0.01) [lr]\n",
      "Accuracy: 0.99 (+/- 0.01) [tree]\n",
      "Accuracy: 0.98 (+/- 0.01) [svc]\n",
      "Accuracy: 0.99 (+/- 0.00) [forest]\n",
      "Accuracy: 0.99 (+/- 0.01) [mlp]\n",
      "Accuracy: 0.99 (+/- 0.01) [voter]\n"
     ]
    }
   ],
   "source": [
    "from sklearn.ensemble import VotingClassifier\n",
    "from sklearn.model_selection import cross_val_score\n",
    "\n",
    "voter_soft = VotingClassifier(estimators=[\n",
    "    ('logreg', logreg),\n",
    "    ('tree', tree),\n",
    "    ('svm', svm),\n",
    "    ('forest', forest)\n",
    "], voting='soft')\n",
    "\n",
    "voter_hard.fit(X_train, y_train)\n",
    "\n",
    "for clf, label in zip(\n",
    "    [logreg, tree, svm, forest, mlp, voter_soft],\n",
    "    ['lr', 'tree', 'svc', 'forest', 'mlp', 'voter']\n",
    "):\n",
    "    scores = cross_val_score(\n",
    "        estimator=clf,\n",
    "        X=X_train,\n",
    "        y=y_train,\n",
    "        cv=10,\n",
    "        scoring='accuracy'\n",
    "    )\n",
    "    print('Accuracy: %0.2f (+/- %0.2f) [%s]' % (scores.mean(), scores.std(), label))"
   ]
  },
  {
   "cell_type": "code",
   "execution_count": 332,
   "id": "2bd75285-a1a9-4747-a4f0-a3d6cc9a653b",
   "metadata": {},
   "outputs": [],
   "source": [
    "voter_soft = voter_soft.fit(X, y)"
   ]
  },
  {
   "cell_type": "code",
   "execution_count": 333,
   "id": "6aff15da-cad9-4020-9018-e962100261da",
   "metadata": {},
   "outputs": [
    {
     "data": {
      "text/plain": [
       "0.9696969696969697"
      ]
     },
     "execution_count": 333,
     "metadata": {},
     "output_type": "execute_result"
    }
   ],
   "source": [
    "accuracy_score(y_true=y_t, y_pred=voter_soft.predict(X_t))"
   ]
  },
  {
   "cell_type": "code",
   "execution_count": 334,
   "id": "9a4b168f-9674-4179-8ebd-09a3fdf5e48d",
   "metadata": {},
   "outputs": [
    {
     "data": {
      "text/plain": [
       "array([[1938,    8,   16],\n",
       "       [  42,  138,    0],\n",
       "       [   5,    0,  196]], dtype=int64)"
      ]
     },
     "execution_count": 334,
     "metadata": {},
     "output_type": "execute_result"
    }
   ],
   "source": [
    "confusion_matrix(y_true=y_t, y_pred=voter_soft.predict(X_t))"
   ]
  },
  {
   "cell_type": "markdown",
   "id": "d5e08b8e-8a42-4569-a4b2-7f023527dbfd",
   "metadata": {},
   "source": [
    "# Оценка лучших моделей"
   ]
  },
  {
   "cell_type": "code",
   "execution_count": 463,
   "id": "c60d3080-711d-419d-954c-21b0cdebb5b0",
   "metadata": {},
   "outputs": [
    {
     "name": "stdout",
     "output_type": "stream",
     "text": [
      "Model DecisionTreeClassifier by Nikolay Popov, version 1 (2022-06-23 18:36:04.290310).\n",
      "Test accuracy: 0.9726845924029023.\n"
     ]
    }
   ],
   "source": [
    "with open('flattern_model_tree.pkl', 'rb') as file:\n",
    "    model = dill.load(file)\n",
    "\n",
    "best_tree = model['model']\n",
    "meta = model['metadata']\n",
    "print(\n",
    "    f'Model {meta[\"type\"]} by {meta[\"author\"]}, version {meta[\"version\"]} ({meta[\"date\"]}).\\n\\\n",
    "Test accuracy: {meta[\"test_accuracy\"]}.'\n",
    ")"
   ]
  },
  {
   "cell_type": "code",
   "execution_count": 375,
   "id": "2036077a-d99b-4551-b059-2d1ba9736da7",
   "metadata": {},
   "outputs": [
    {
     "name": "stdout",
     "output_type": "stream",
     "text": [
      "Model RandomForestClassifier by Nikolay Popov, version 1 (2022-06-22 19:10:17.987098).\n",
      "Test accuracy: 0.9731113956466069.\n"
     ]
    }
   ],
   "source": [
    "with open('flattern_model_forest.pkl', 'rb') as file:\n",
    "    model = dill.load(file)\n",
    "\n",
    "best_forest = model['model']\n",
    "meta = model['metadata']\n",
    "print(\n",
    "    f'Model {meta[\"type\"]} by {meta[\"author\"]}, version {meta[\"version\"]} ({meta[\"date\"]}).\\n\\\n",
    "Test accuracy: {meta[\"test_accuracy\"]}.'\n",
    ")"
   ]
  },
  {
   "cell_type": "code",
   "execution_count": 395,
   "id": "4a0956dc-9a72-4bcf-a416-4a1cbc48142b",
   "metadata": {},
   "outputs": [
    {
     "data": {
      "image/png": "[encoded data removed]",
      "text/plain": [
       "<Figure size 720x720 with 2 Axes>"
      ]
     },
     "metadata": {
      "needs_background": "light"
     },
     "output_type": "display_data"
    }
   ],
   "source": [
    "fig, axs = plt.subplots(nrows=1, ncols=2, figsize=(10, 10), sharey=True)\n",
    "\n",
    "models = [best_tree, best_forest]\n",
    "\n",
    "axs[0].set_ylabel('Спрогнозированная метка')\n",
    "axs[0].set_title('Дерево решений', weight='bold')\n",
    "axs[1].set_title('Случайный лес', weight='bold')\n",
    "\n",
    "for ax, model in zip(axs, models):\n",
    "    confmat = confusion_matrix(y_true=y_t, y_pred=model.predict(X_t))\n",
    "    ax.matshow(confmat, cmap=plt.cm.Blues, alpha=0.3)\n",
    "\n",
    "    for i in range(confmat.shape[0]):\n",
    "        for j in range(confmat.shape[1]):\n",
    "            ax.text(\n",
    "                x=j,\n",
    "                y=i,\n",
    "                s=confmat[i, j],\n",
    "                va='center',\n",
    "                ha='center'\n",
    "            )\n",
    "\n",
    "    ax.set_xlabel('Настоящая метка')\n",
    "    ax.set_xticks(np.arange(3))\n",
    "    ax.set_xticklabels(target_le.inverse_transform([0, 1, 2]))\n",
    "\n",
    "plt.yticks(np.arange(3), target_le.inverse_transform([0, 1, 2]))\n",
    "plt.tight_layout()\n",
    "plt.show()"
   ]
  },
  {
   "cell_type": "code",
   "execution_count": 408,
   "id": "02786727-6a9e-4227-9f9f-afa3a43e9a7d",
   "metadata": {},
   "outputs": [
    {
     "name": "stdout",
     "output_type": "stream",
     "text": [
      "Дерево решений: Корректно распознано 2279 образцов из 2343.\n",
      "Случайный лес: Корректно распознано 2280 образцов из 2343.\n"
     ]
    }
   ],
   "source": [
    "names = ['Дерево решений', 'Случайный лес']\n",
    "\n",
    "for model, name in zip(models, names):\n",
    "    confmat = confusion_matrix(y_true=y_t, y_pred=model.predict(X_t))\n",
    "    \n",
    "    total_entries = confmat.sum()\n",
    "    correct_predictions = (confmat * np.eye(3)).sum()\n",
    "    \n",
    "    print(f'{name}: Корректно распознано {int(correct_predictions)} образцов из {total_entries}.')"
   ]
  },
  {
   "cell_type": "code",
   "execution_count": 409,
   "id": "e4588035-2dcd-4670-94d6-5c65b0b8d455",
   "metadata": {},
   "outputs": [
    {
     "name": "stdout",
     "output_type": "stream",
     "text": [
      "Точность перекрёстной проверки: 0.99 (+/- 0.01) [Дерево решений]\n",
      "Точность перекрёстной проверки: 0.99 (+/- 0.01) [Случайный лес]\n"
     ]
    }
   ],
   "source": [
    "for model, name in zip(models, names):\n",
    "    scores = cross_val_score(\n",
    "        estimator=model,\n",
    "        X=X_train,\n",
    "        y=y_train,\n",
    "        cv=10,\n",
    "        scoring='accuracy'\n",
    "    )\n",
    "    print('Точность перекрёстной проверки: %0.2f (+/- %0.2f) [%s]' % (scores.mean(), scores.std(), name))"
   ]
  },
  {
   "cell_type": "markdown",
   "id": "e37550a8-5c3c-4385-ae2a-7d3e09b2a1e0",
   "metadata": {},
   "source": [
    "Обе модели показывают низкое смещение и низкую дисперсию, а значит, хорошо обобщаются на новые данные."
   ]
  },
  {
   "cell_type": "code",
   "execution_count": 412,
   "id": "d4a0ebf9-1428-4541-9a78-0b52c59c77b4",
   "metadata": {},
   "outputs": [
    {
     "name": "stdout",
     "output_type": "stream",
     "text": [
      "Размер бинарника модели Дерево решений - 4.8Кб\n",
      "Размер бинарника модели Случайный лес - 115.2Кб\n"
     ]
    }
   ],
   "source": [
    "import os\n",
    "\n",
    "paths = ['flattern_model_tree.pkl', 'flattern_model_forest.pkl']\n",
    "for path, name in zip(paths, names):\n",
    "    print('Размер бинарника модели %s - %0.1fКб' % (name, os.path.getsize(path) / 1024))"
   ]
  },
  {
   "cell_type": "code",
   "execution_count": 413,
   "id": "c54a1949-c367-4029-9f0c-a02a117385ac",
   "metadata": {},
   "outputs": [
    {
     "name": "stdout",
     "output_type": "stream",
     "text": [
      "1.23 ms ± 60.5 µs per loop (mean ± std. dev. of 7 runs, 1000 loops each)\n"
     ]
    }
   ],
   "source": [
    "%%timeit\n",
    "best_tree.predict(X_t.sample(1))"
   ]
  },
  {
   "cell_type": "code",
   "execution_count": 415,
   "id": "673c642d-12a3-47f2-84f7-b085cd4eefed",
   "metadata": {},
   "outputs": [
    {
     "name": "stdout",
     "output_type": "stream",
     "text": [
      "14.3 ms ± 252 µs per loop (mean ± std. dev. of 7 runs, 100 loops each)\n"
     ]
    }
   ],
   "source": [
    "%%timeit\n",
    "best_forest.predict(X_t.sample(1))"
   ]
  },
  {
   "cell_type": "code",
   "execution_count": 416,
   "id": "f99960a8-0ccc-4a63-abc9-96a9ce3ad2cf",
   "metadata": {},
   "outputs": [
    {
     "name": "stdout",
     "output_type": "stream",
     "text": [
      "1.21 ms ± 38.2 µs per loop (mean ± std. dev. of 7 runs, 1000 loops each)\n"
     ]
    }
   ],
   "source": [
    "%%timeit\n",
    "best_tree.predict(X_t.sample(100))"
   ]
  },
  {
   "cell_type": "code",
   "execution_count": 417,
   "id": "d51a8fdd-6a42-423a-9f78-735cda350cfe",
   "metadata": {},
   "outputs": [
    {
     "name": "stdout",
     "output_type": "stream",
     "text": [
      "14.1 ms ± 155 µs per loop (mean ± std. dev. of 7 runs, 100 loops each)\n"
     ]
    }
   ],
   "source": [
    "%%timeit\n",
    "best_forest.predict(X_t.sample(100))"
   ]
  },
  {
   "cell_type": "code",
   "execution_count": 418,
   "id": "b3965462-019d-42bf-beeb-5c0339077e7d",
   "metadata": {},
   "outputs": [
    {
     "name": "stdout",
     "output_type": "stream",
     "text": [
      "1.32 ms ± 99.3 µs per loop (mean ± std. dev. of 7 runs, 1000 loops each)\n"
     ]
    }
   ],
   "source": [
    "%%timeit\n",
    "best_tree.predict(X_t.sample(1000))"
   ]
  },
  {
   "cell_type": "code",
   "execution_count": 419,
   "id": "0be7b991-d6aa-4da4-843a-8e7d1257ed84",
   "metadata": {},
   "outputs": [
    {
     "name": "stdout",
     "output_type": "stream",
     "text": [
      "19.3 ms ± 252 µs per loop (mean ± std. dev. of 7 runs, 100 loops each)\n"
     ]
    }
   ],
   "source": [
    "%%timeit\n",
    "best_forest.predict(X_t.sample(1000))"
   ]
  },
  {
   "cell_type": "markdown",
   "id": "57e9faa1-dc35-4177-923a-cee19a774490",
   "metadata": {},
   "source": [
    "Таким образом, как по времени, так и по используемой памяти, лучше всего себя показала модель на основе дерева решений."
   ]
  },
  {
   "cell_type": "markdown",
   "id": "503bae98-5964-4deb-8f4e-d316b34d89b0",
   "metadata": {},
   "source": [
    "# Добавление обработки пустых значений в итоговый оценщик"
   ]
  },
  {
   "cell_type": "code",
   "execution_count": 195,
   "id": "6aea87a8-3964-42d0-bf1d-1e511db0fbbc",
   "metadata": {},
   "outputs": [],
   "source": [
    "col_selector = ColumnTransformer([\n",
    "    ('nothing', 'passthrough', selected_featues),\n",
    "], remainder='drop')"
   ]
  },
  {
   "cell_type": "code",
   "execution_count": 492,
   "id": "6a11b687-9e65-4dee-9ce3-87ecfa8880ab",
   "metadata": {},
   "outputs": [],
   "source": [
    "from sklearn.preprocessing import FunctionTransformer\n",
    "\n",
    "def nan_dropper_func(df):\n",
    "    return df.dropna()\n",
    "\n",
    "nan_dropper = FunctionTransformer(nan_dropper_func)"
   ]
  },
  {
   "cell_type": "code",
   "execution_count": 550,
   "id": "d179dc0d-1091-4600-8afd-fa7635195375",
   "metadata": {
    "tags": []
   },
   "outputs": [],
   "source": [
    "from sklearn.base import clone\n",
    "\n",
    "tree_pipe = Pipeline([\n",
    "    ('prep_dropna', nan_dropper),\n",
    "    ('prep_select', col_selector),\n",
    "    ('tree', clone(best_tree.named_steps['tree']))\n",
    "])"
   ]
  },
  {
   "cell_type": "code",
   "execution_count": 551,
   "id": "69d7bb0c-696d-4392-b26f-ebff360b7fb9",
   "metadata": {
    "tags": []
   },
   "outputs": [],
   "source": [
    "tree_extd = tree_pipe.fit(X_train, y_train)"
   ]
  },
  {
   "cell_type": "code",
   "execution_count": 552,
   "id": "733b65a1-a21f-422a-b8e8-1d21d2193b0c",
   "metadata": {},
   "outputs": [
    {
     "data": {
      "text/plain": [
       "array([[533,   0,   5],\n",
       "       [  7,   9,   0],\n",
       "       [  1,   0,  75]], dtype=int64)"
      ]
     },
     "execution_count": 552,
     "metadata": {},
     "output_type": "execute_result"
    }
   ],
   "source": [
    "from sklearn.metrics import confusion_matrix\n",
    "\n",
    "confusion_matrix(y_true=y_test, y_pred=tree_extd.predict(X_test))"
   ]
  },
  {
   "cell_type": "code",
   "execution_count": 562,
   "id": "a7489dd3-09e5-4daf-b585-cb57b63913bb",
   "metadata": {},
   "outputs": [
    {
     "data": {
      "text/plain": [
       "0.9863945578231292"
      ]
     },
     "execution_count": 562,
     "metadata": {},
     "output_type": "execute_result"
    }
   ],
   "source": [
    "accuracy_score(y_true=y_train, y_pred=tree_extd.predict(X_train))"
   ]
  },
  {
   "cell_type": "code",
   "execution_count": 553,
   "id": "b2ff032d-9371-4400-8857-bad68bd851bd",
   "metadata": {},
   "outputs": [
    {
     "data": {
      "text/plain": [
       "0.9793650793650793"
      ]
     },
     "execution_count": 553,
     "metadata": {},
     "output_type": "execute_result"
    }
   ],
   "source": [
    "accuracy_score(y_true=y_test, y_pred=tree_extd.predict(X_test))"
   ]
  },
  {
   "cell_type": "code",
   "execution_count": 572,
   "id": "bbd696e3-0360-437b-87a6-454dc4342904",
   "metadata": {},
   "outputs": [
    {
     "data": {
      "text/html": [
       "<div>\n",
       "<style scoped>\n",
       "    .dataframe tbody tr th:only-of-type {\n",
       "        vertical-align: middle;\n",
       "    }\n",
       "\n",
       "    .dataframe tbody tr th {\n",
       "        vertical-align: top;\n",
       "    }\n",
       "\n",
       "    .dataframe thead th {\n",
       "        text-align: right;\n",
       "    }\n",
       "</style>\n",
       "<table border=\"1\" class=\"dataframe\">\n",
       "  <thead>\n",
       "    <tr style=\"text-align: right;\">\n",
       "      <th></th>\n",
       "      <th>1</th>\n",
       "      <th>3</th>\n",
       "    </tr>\n",
       "  </thead>\n",
       "  <tbody>\n",
       "    <tr>\n",
       "      <th>0</th>\n",
       "      <td>0.0</td>\n",
       "      <td>1.0</td>\n",
       "    </tr>\n",
       "    <tr>\n",
       "      <th>1</th>\n",
       "      <td>NaN</td>\n",
       "      <td>3.0</td>\n",
       "    </tr>\n",
       "    <tr>\n",
       "      <th>3</th>\n",
       "      <td>NaN</td>\n",
       "      <td>NaN</td>\n",
       "    </tr>\n",
       "  </tbody>\n",
       "</table>\n",
       "</div>"
      ],
      "text/plain": [
       "     1    3\n",
       "0  0.0  1.0\n",
       "1  NaN  3.0\n",
       "3  NaN  NaN"
      ]
     },
     "execution_count": 572,
     "metadata": {},
     "output_type": "execute_result"
    }
   ],
   "source": [
    "idxx = ['1', '3']\n",
    "frame[frame.isna().any(axis=1)][idxx]"
   ]
  },
  {
   "cell_type": "code",
   "execution_count": 554,
   "id": "d020addf-5449-4577-a803-c53437d3aa7b",
   "metadata": {},
   "outputs": [
    {
     "data": {
      "text/plain": [
       "0.9743918053777209"
      ]
     },
     "execution_count": 554,
     "metadata": {},
     "output_type": "execute_result"
    }
   ],
   "source": [
    "accuracy_score(y_true=y_t, y_pred=tree_extd.predict(X_t))"
   ]
  },
  {
   "cell_type": "code",
   "execution_count": 555,
   "id": "1ef292c8-98ca-46d1-83cc-52dae8e6096b",
   "metadata": {},
   "outputs": [
    {
     "data": {
      "text/plain": [
       "array([[1949,    0,   13],\n",
       "       [  42,  138,    0],\n",
       "       [   5,    0,  196]], dtype=int64)"
      ]
     },
     "execution_count": 555,
     "metadata": {},
     "output_type": "execute_result"
    }
   ],
   "source": [
    "confusion_matrix(y_true=y_t, y_pred=tree_extd.predict(X_t))"
   ]
  },
  {
   "cell_type": "code",
   "execution_count": 556,
   "id": "b8241549-e9ea-47d1-9029-e7237137ac2a",
   "metadata": {},
   "outputs": [
    {
     "data": {
      "text/plain": [
       "{'StdDevDist': 0.022788063806391916,\n",
       " 'MeanDist': 0.01836597531832966,\n",
       " 'StdDevDistm1': 0.019220009697109196,\n",
       " 'MeanDistm1': 0.062451607088952914,\n",
       " 'MeanAzChangem1': 0.05000678819481289,\n",
       " 'StdDevDistToLast': 0.8133409868249744,\n",
       " 'MeanDistToLast': 0.013258956581962309,\n",
       " 'LastAnglChange': 0.0005676124874667706}"
      ]
     },
     "execution_count": 556,
     "metadata": {},
     "output_type": "execute_result"
    }
   ],
   "source": [
    "t = tree_extd.named_steps['tree']\n",
    "feat_imps = dict(zip(selected_featues, t.feature_importances_))\n",
    "feat_imps"
   ]
  },
  {
   "cell_type": "markdown",
   "id": "499018f4-9dd9-4474-ac3b-a3b5f9b0f5d9",
   "metadata": {},
   "source": [
    "# Обучение оценщика на полном наборе данных"
   ]
  },
  {
   "cell_type": "code",
   "execution_count": 557,
   "id": "ec051f3d-c4f0-4e56-9e5c-3df85a901738",
   "metadata": {},
   "outputs": [
    {
     "name": "stdout",
     "output_type": "stream",
     "text": [
      "<class 'pandas.core.frame.DataFrame'>\n",
      "Int64Index: 4443 entries, 0 to 2342\n",
      "Data columns (total 14 columns):\n",
      " #   Column            Non-Null Count  Dtype  \n",
      "---  ------            --------------  -----  \n",
      " 0   CatalogStId       4443 non-null   int64  \n",
      " 1   SidStarID         4443 non-null   int64  \n",
      " 2   Number            4443 non-null   int64  \n",
      " 3   RouteL            4443 non-null   int64  \n",
      " 4   ProcedureType     4443 non-null   object \n",
      " 5   StdDevDist        4443 non-null   float64\n",
      " 6   MeanDist          4443 non-null   float64\n",
      " 7   StdDevDistm1      4443 non-null   float64\n",
      " 8   MeanDistm1        4443 non-null   float64\n",
      " 9   MeanAzChangem1    4443 non-null   float64\n",
      " 10  StdAzChangem1     4443 non-null   float64\n",
      " 11  StdDevDistToLast  4443 non-null   float64\n",
      " 12  MeanDistToLast    4443 non-null   float64\n",
      " 13  LastAnglChange    4443 non-null   float64\n",
      "dtypes: float64(9), int64(4), object(1)\n",
      "memory usage: 520.7+ KB\n"
     ]
    }
   ],
   "source": [
    "full = pd.concat([train, test], axis=0)\n",
    "full.info()"
   ]
  },
  {
   "cell_type": "code",
   "execution_count": 558,
   "id": "d997941c-7789-4b46-865b-2063219278cd",
   "metadata": {},
   "outputs": [],
   "source": [
    "Xtra = full.drop(columns=['ProcedureType'])\n",
    "ytra = full['ProcedureType']"
   ]
  },
  {
   "cell_type": "code",
   "execution_count": 559,
   "id": "4eb8a6b6-b654-4e4b-aa3a-0c150fa405a6",
   "metadata": {},
   "outputs": [],
   "source": [
    "ytra = target_le.transform(ytra)"
   ]
  },
  {
   "cell_type": "code",
   "execution_count": 560,
   "id": "2222413a-a506-436e-84fb-4b04c9bb28c4",
   "metadata": {},
   "outputs": [],
   "source": [
    "tree = tree_extd.fit(Xtra, ytra)"
   ]
  },
  {
   "cell_type": "code",
   "execution_count": 561,
   "id": "e54dec0c-3b06-4954-b93f-12df845fa6aa",
   "metadata": {},
   "outputs": [],
   "source": [
    "with open('flattern_model_tree.pkl', 'wb') as file:\n",
    "    dill.dump(\n",
    "        {\n",
    "            'model': tree,\n",
    "            'label_encoder': target_le,\n",
    "            'metadata': {\n",
    "                'name': 'Flight pattern classification model for simulation modelling.',\n",
    "                'author': 'Nikolay Popov',\n",
    "                'version': 2,\n",
    "                'date': datetime.datetime.now(),\n",
    "                'type': type(tree.named_steps['tree']).__name__,\n",
    "                'test_accuracy': accuracy_score(y_true=y_t, y_pred=tree.predict(X_t))\n",
    "            }\n",
    "        }, file\n",
    "    )"
   ]
  }
 ],
 "metadata": {
  "kernelspec": {
   "display_name": "Python 3 (ipykernel)",
   "language": "python",
   "name": "python3"
  },
  "language_info": {
   "codemirror_mode": {
    "name": "ipython",
    "version": 3
   },
   "file_extension": ".py",
   "mimetype": "text/x-python",
   "name": "python",
   "nbconvert_exporter": "python",
   "pygments_lexer": "ipython3",
   "version": "3.9.7"
  },
  "toc-autonumbering": true
 },
 "nbformat": 4,
 "nbformat_minor": 5
}
